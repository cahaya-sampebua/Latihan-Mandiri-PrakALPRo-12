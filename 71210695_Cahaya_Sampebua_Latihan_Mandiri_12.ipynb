{
  "nbformat": 4,
  "nbformat_minor": 0,
  "metadata": {
    "colab": {
      "provenance": []
    },
    "kernelspec": {
      "name": "python3",
      "display_name": "Python 3"
    },
    "language_info": {
      "name": "python"
    }
  },
  "cells": [
    {
      "cell_type": "code",
      "source": [
        "#Soal 1\n",
        "\n",
        "n = int(input('Masukkan Jumlah Kategori : '))\n",
        "data_aplikasi = {}\n",
        "for i in range(n):\n",
        "    nama_kategori = input('Masukkan Nama Kategori : ')\n",
        "    print('Masukkan 5 nama aplikasi di kategori',nama_kategori)\n",
        "    aplikasi = list()\n",
        "    for j in range(5):\n",
        "        nama_app = input('Masukkan Nama Aplikasi : ')\n",
        "        aplikasi.append(nama_app)\n",
        "    data_aplikasi[nama_kategori] = aplikasi\n",
        "print(data_aplikasi)\n",
        "daftar_aplikasi_list = list()\n",
        "\n",
        "for aplikasi in data_aplikasi.values():\n",
        "    daftar_aplikasi_list.append(set(aplikasi))\n",
        "print(daftar_aplikasi_list)\n",
        "hasil = daftar_aplikasi_list\n",
        "\n",
        "#print satu kategori saja\n",
        "unik = daftar_aplikasi_list[0] ^ daftar_aplikasi_list[1]\n",
        "print('Aplikasi yang hanya muncul di satu kategori saja adalah ',unik)\n",
        "\n",
        "#print nama app yang muncul di dua kategori\n",
        "if n>2:\n",
        "    inter = daftar_aplikasi_list[0] & daftar_aplikasi_list[1]\n",
        "    print('Aplikasi yang muncul di dua kategori sekaligus adalah ',inter)"
      ],
      "metadata": {
        "colab": {
          "base_uri": "https://localhost:8080/"
        },
        "id": "wu25L9OMzxFP",
        "outputId": "e23addbc-c694-43d8-c57d-1fcfc6e52bfd"
      },
      "execution_count": 7,
      "outputs": [
        {
          "output_type": "stream",
          "name": "stdout",
          "text": [
            "Masukkan Jumlah Kategori : 2\n",
            "Masukkan Nama Kategori : Finance\n",
            "Masukkan 5 nama aplikasi di kategori Finance\n",
            "Masukkan Nama Aplikasi : RTI Saham\n",
            "Masukkan Nama Aplikasi : Mirae\n",
            "Masukkan Nama Aplikasi : IPOT\n",
            "Masukkan Nama Aplikasi : Poems\n",
            "Masukkan Nama Aplikasi : Calculator\n",
            "Masukkan Nama Kategori : Utilities\n",
            "Masukkan 5 nama aplikasi di kategori Utilities\n",
            "Masukkan Nama Aplikasi : Photo\n",
            "Masukkan Nama Aplikasi : Weather\n",
            "Masukkan Nama Aplikasi : Calculator\n",
            "Masukkan Nama Aplikasi : Camera\n",
            "Masukkan Nama Aplikasi : Notes\n",
            "{'Finance': ['RTI Saham', 'Mirae', 'IPOT', 'Poems', 'Calculator'], 'Utilities': ['Photo', 'Weather', 'Calculator', 'Camera', 'Notes']}\n",
            "[{'Mirae', 'Poems', 'IPOT', 'Calculator', 'RTI Saham'}, {'Photo', 'Weather', 'Notes', 'Calculator', 'Camera'}]\n",
            "Aplikasi yang hanya muncul di satu kategori saja adalah  {'Mirae', 'Photo', 'Poems', 'Weather', 'Notes', 'IPOT', 'Camera', 'RTI Saham'}\n"
          ]
        }
      ]
    },
    {
      "cell_type": "code",
      "source": [
        "#Soal 2\n",
        "\n",
        "ulang = 'Y'\n",
        "while ulang == 'Y':\n",
        "    print('   ******* Program Demonstrasi Konversi *******')\n",
        "    print('='*49)\n",
        "    print('Pilih jenis konversi :\\n1. List ke Set\\n2. Set ke List\\n3. Tuple ke Set\\n4. Set ke Tuple')\n",
        "    pilih = int(input('Masukkan pilihan anda : '))\n",
        "    print('='*49)\n",
        "    #list ke set\n",
        "    if pilih == 1:\n",
        "        finance = ['RTI Saham','IPOT','Poems','Mirae']\n",
        "        konversi = set(finance)\n",
        "        print(f'List ke Set\\nSebelum : {finance}\\nSesudah : {konversi}')\n",
        "    #set ke list\n",
        "    elif pilih == 2:\n",
        "        finance = {'RTI Saham','IPOT','Poems','Mirae'}\n",
        "        konversi = list(finance)\n",
        "        print(f'Set ke List\\nSebelum : {finance}\\nSesudah : {konversi}')\n",
        "    #tuple ke set\n",
        "    elif pilih == 3:\n",
        "        finance = ('RTI Saham','IPOT','Poems','Mirae')\n",
        "        konversi = set(finance)\n",
        "        print(f'Tuple ke Set\\nSebelum : {finance}\\nSesudah : {konversi}')\n",
        "    #set ke tuple\n",
        "    elif pilih == 4:\n",
        "        finance = {'RTI Saham','IPOT','Poems','Mirae'}\n",
        "        konversi = tuple(finance)\n",
        "        print(f'Set ke Tuple\\nSebelum : {finance}\\nSesudah : {konversi}')\n",
        "    else:\n",
        "      print('Pilihan tidak ada dalam menu')\n",
        "    print('='*49)\n",
        "    ulang = input('     Apakah anda ingin coba Lagi? Y/N : ').upper()\n",
        "    if ulang == \"N\":\n",
        "        print(f'\\n              \"Terimakasih\"')"
      ],
      "metadata": {
        "colab": {
          "base_uri": "https://localhost:8080/"
        },
        "id": "fIKVfYc5zxlV",
        "outputId": "caf37fcd-ed3f-4abd-ee84-aee36a201f72"
      },
      "execution_count": 8,
      "outputs": [
        {
          "output_type": "stream",
          "name": "stdout",
          "text": [
            "   ******* Program Demonstrasi Konversi *******\n",
            "=================================================\n",
            "Pilih jenis konversi :\n",
            "1. List ke Set\n",
            "2. Set ke List\n",
            "3. Tuple ke Set\n",
            "4. Set ke Tuple\n",
            "Masukkan pilihan anda : 1\n",
            "=================================================\n",
            "List ke Set\n",
            "Sebelum : ['RTI Saham', 'IPOT', 'Poems', 'Mirae']\n",
            "Sesudah : {'IPOT', 'Mirae', 'RTI Saham', 'Poems'}\n",
            "=================================================\n",
            "     Apakah anda ingin coba Lagi? Y/N : n\n",
            "\n",
            "              \"Terimakasih\"\n"
          ]
        }
      ]
    },
    {
      "cell_type": "code",
      "source": [
        "#Soal 3\n",
        "\n",
        "try:\n",
        "    teks1 = open(input('Masukkan Nama File 1 : '))\n",
        "    teks2 = open(input('Masukkan Nama File 2 : '))\n",
        "    read_teks1 = teks1.read().lower()\n",
        "    read_teks2 = teks2.read().lower()\n",
        "    print(f'Teks File 1 \\n{read_teks1}\\n\\nTeks File 2 \\n{read_teks2}')\n",
        "\n",
        "except:\n",
        "    print('File tidak ditemukan/tidak bisa dibaca')"
      ],
      "metadata": {
        "colab": {
          "base_uri": "https://localhost:8080/"
        },
        "id": "9dCGiD4czxqn",
        "outputId": "7ff81b1a-8c54-4ff4-f5ab-35ae8e0e6e51"
      },
      "execution_count": 6,
      "outputs": [
        {
          "output_type": "stream",
          "name": "stdout",
          "text": [
            "Masukkan Nama File 1 : file 1.txt\n",
            "Masukkan Nama File 2 : file 2.txt\n",
            "Teks File 1 \n",
            "tugas selasa 14 mei\n",
            "harus sebisa mungkin \n",
            "nyelesaiin laprak prakalpro\n",
            "\n",
            "Teks File 2 \n",
            "mencoba sebisanya\n",
            "sajaaaa :)\n"
          ]
        }
      ]
    }
  ]
}